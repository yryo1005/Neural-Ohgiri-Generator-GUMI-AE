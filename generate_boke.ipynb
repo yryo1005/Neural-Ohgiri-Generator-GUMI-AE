{
 "cells": [
  {
   "attachments": {},
   "cell_type": "markdown",
   "metadata": {},
   "source": [
    "# 学習済みモデルを用いて推論を行う"
   ]
  },
  {
   "cell_type": "code",
   "execution_count": null,
   "metadata": {},
   "outputs": [],
   "source": [
    "import tensorflow as tf\n",
    "from tensorflow.keras import models\n",
    "\n",
    "import json\n",
    "from tqdm import tqdm\n",
    "import numpy as np\n",
    "import matplotlib.pyplot as plt"
   ]
  },
  {
   "cell_type": "code",
   "execution_count": null,
   "metadata": {},
   "outputs": [],
   "source": [
    "# 画像のエンコーダのパス\n",
    "encoder_path = \"dist_encoder.h5\"\n",
    "\n",
    "# 大喜利生成器のパス\n",
    "generator_path = \"dist_generator.h5\""
   ]
  },
  {
   "cell_type": "code",
   "execution_count": null,
   "metadata": {},
   "outputs": [],
   "source": [
    "# 画像のエンコーダの読み込み\n",
    "encoder = models.load_model(encoder_path)\n",
    "\n",
    "IMAGE_HEIGHT = encoder.input_shape[1]\n",
    "IMAGE_WIDTH = encoder.input_shape[2]\n",
    "IMAGE_FEATUER_DIM = encoder.output_shape[1]\n",
    "\n",
    "#\n",
    "IMAGE_HEIGHT, IMAGE_WIDTH, IMAGE_FEATUER_DIM"
   ]
  },
  {
   "cell_type": "code",
   "execution_count": null,
   "metadata": {},
   "outputs": [],
   "source": [
    "# 大喜利生成器の読み込み\n",
    "generator = models.load_model(generator_path)\n",
    "\n",
    "SENTENCE_LENGTH = generator.input_shape[0][1]\n",
    "\n",
    "#\n",
    "SENTENCE_LENGTH"
   ]
  },
  {
   "cell_type": "code",
   "execution_count": null,
   "metadata": {},
   "outputs": [],
   "source": [
    "# 画像の読み込み関数\n",
    "def read_and_preprocess( _image_path ):\n",
    "    _image = tf.io.read_file( _image_path )\n",
    "    _image = tf.image.decode_image( _image, channels = 3, expand_animations = False )\n",
    "    _image = tf.image.resize( _image, (IMAGE_HEIGHT, IMAGE_WIDTH) )\n",
    "    _image = tf.cast( _image, tf.float32 )\n",
    "    _image = _image / 255.0\n",
    "\n",
    "    return _image"
   ]
  },
  {
   "cell_type": "code",
   "execution_count": null,
   "metadata": {},
   "outputs": [],
   "source": [
    "#　データのみ読み込み\n",
    "with open(\"accepted_numbers.json\", \"r\") as f:\n",
    "    accepted_numbers = json.load(f)[\"accepted_numbers\"]\n",
    "\n",
    "with open(\"bokete_data_0_100000.json\", \"r\") as f:\n",
    "    a = json.load(f)\n",
    "boke_dict = dict()\n",
    "for A in tqdm(a):\n",
    "    boke_number = int(A[\"boke_number\"])\n",
    "    if boke_number not in accepted_numbers: continue\n",
    "    boke_dict[boke_number] = A[\"bokes\"]\n",
    "\n",
    "with open(\"word_to_index.json\", \"r\") as f:\n",
    "    word_to_index = json.load(f)\n",
    "index_to_word = dict(zip([word_to_index[K] for K in word_to_index.keys()], word_to_index.keys()))\n",
    "VOCAB = len(word_to_index.keys())\n",
    "\n",
    "#\n",
    "len(accepted_numbers), len(boke_dict.keys()), VOCAB"
   ]
  },
  {
   "cell_type": "code",
   "execution_count": null,
   "metadata": {},
   "outputs": [],
   "source": [
    "def generate_boke(boke_number = None):\n",
    "    if boke_number is None:\n",
    "        boke_number = np.random.choice(accepted_numbers)\n",
    "\n",
    "    image = read_and_preprocess(f\"../bokete_image_0_100000/{boke_number}.jpg\")\n",
    "\n",
    "    image_feature = encoder.predict( np.reshape(image, (1, IMAGE_HEIGHT, IMAGE_WIDTH, 3)), verbose = False )\n",
    "\n",
    "    gen_txt = [word_to_index[\"<START>\"]]\n",
    "    for i in range(1, SENTENCE_LENGTH):\n",
    "        tmp = gen_txt + [0] * (SENTENCE_LENGTH - i)\n",
    "        tmp = np.reshape(tmp, (1, SENTENCE_LENGTH))\n",
    "\n",
    "        pred = generator.predict( [tmp, image_feature], verbose = False )\n",
    "        pred = np.reshape(pred, (VOCAB))\n",
    "\n",
    "        choice = np.argmax(pred)\n",
    "        gen_txt.append(choice)\n",
    "        if choice == word_to_index[\"<END>\"] or choice == word_to_index[\"<PADDING>\"]:\n",
    "            break\n",
    "\n",
    "    # \n",
    "    print(f\"boke_number : {boke_number}\")\n",
    "\n",
    "    fig = plt.figure()\n",
    "    ax = fig.add_subplot()\n",
    "    ax.imshow(image)\n",
    "    ax.tick_params(labelbottom = False, labelleft = False, labelright = False, labeltop = False)\n",
    "    plt.show()\n",
    "\n",
    "    print(\"<生成>\")\n",
    "    for W in gen_txt[1:-1]:\n",
    "        print(index_to_word[W], end = \"\")\n",
    "    print()\n",
    "\n",
    "    print(\"<学習データ>\")\n",
    "    for B in boke_dict[boke_number]:\n",
    "        print(B)\n",
    "\n",
    "def generate_boke_from_image(image_path):\n",
    "    image = read_and_preprocess(image_path)\n",
    "\n",
    "    image_feature = encoder.predict( np.reshape(image, (1, IMAGE_HEIGHT, IMAGE_WIDTH, 3)), verbose = False )\n",
    "\n",
    "    gen_txt = [word_to_index[\"<START>\"]]\n",
    "    for i in range(1, SENTENCE_LENGTH):\n",
    "        tmp = gen_txt + [0] * (SENTENCE_LENGTH - i)\n",
    "        tmp = np.reshape(tmp, (1, SENTENCE_LENGTH))\n",
    "\n",
    "        pred = generator.predict( [tmp, image_feature], verbose = False )\n",
    "        pred = np.reshape(pred, (VOCAB))\n",
    "\n",
    "        choice = np.argmax(pred)\n",
    "        gen_txt.append(choice)\n",
    "        if choice == word_to_index[\"<END>\"] or choice == word_to_index[\"<PADDING>\"]:\n",
    "            break\n",
    "\n",
    "    # \n",
    "    print(f\"image_path : {image_path}\")\n",
    "\n",
    "    fig = plt.figure()\n",
    "    ax = fig.add_subplot()\n",
    "    ax.imshow(image)\n",
    "    ax.tick_params(labelbottom = False, labelleft = False, labelright = False, labeltop = False)\n",
    "    plt.show()\n",
    "\n",
    "    print(\"<生成>\")\n",
    "    for W in gen_txt[1:-1]:\n",
    "        print(index_to_word[W], end = \"\")\n",
    "    print()"
   ]
  },
  {
   "cell_type": "code",
   "execution_count": null,
   "metadata": {},
   "outputs": [],
   "source": [
    "generate_boke(72182)"
   ]
  }
 ],
 "metadata": {
  "kernelspec": {
   "display_name": "tf_nometal",
   "language": "python",
   "name": "python3"
  },
  "language_info": {
   "codemirror_mode": {
    "name": "ipython",
    "version": 3
   },
   "file_extension": ".py",
   "mimetype": "text/x-python",
   "name": "python",
   "nbconvert_exporter": "python",
   "pygments_lexer": "ipython3",
   "version": "3.8.15"
  },
  "orig_nbformat": 4,
  "vscode": {
   "interpreter": {
    "hash": "16894eda71e74855de2059203bb463351a516140635c0987f7fa670e0370371f"
   }
  }
 },
 "nbformat": 4,
 "nbformat_minor": 2
}
