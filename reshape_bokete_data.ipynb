{
 "cells": [
  {
   "cell_type": "code",
   "execution_count": 1,
   "metadata": {},
   "outputs": [],
   "source": [
    "import json"
   ]
  },
  {
   "cell_type": "code",
   "execution_count": 66,
   "metadata": {},
   "outputs": [],
   "source": [
    "with open(\"C:\\\\Users\\\\yryo1\\\\Workspace\\\\Neural_Oh-giri_Generator_v1\\\\scraping_project\\\\bokete_scrape\\\\spiders\\\\test.json\", encoding = \"utf-8\") as f:\n",
    "    a = f.readlines()\n",
    "\n",
    "tmp = []\n",
    "for i, A in enumerate(a):\n",
    "    if A == '[\\n' or A == ']\\n' or A == '][\\n' or A == ']': continue\n",
    "    A = A.strip(\"\\n\")\n",
    "    if A[-1] == \",\":\n",
    "        r = json.loads(A[:-1])\n",
    "    else:\n",
    "        r = json.loads(A)\n",
    "    tmp.append(r)"
   ]
  },
  {
   "cell_type": "code",
   "execution_count": 68,
   "metadata": {},
   "outputs": [],
   "source": [
    "data = [tmp[0]]\n",
    "previous_numver = tmp[0][\"boke_number\"]\n",
    "\n",
    "for T in tmp:\n",
    "    if T[\"boke_number\"] != previous_numver:\n",
    "        previous_numver = T[\"boke_number\"]\n",
    "        data.append(T)\n",
    "    else:\n",
    "        data[-1][\"bokes\"] += T[\"bokes\"]"
   ]
  },
  {
   "cell_type": "code",
   "execution_count": 74,
   "metadata": {},
   "outputs": [],
   "source": [
    "with open(\"boke_data.json\", \"w\") as f:\n",
    "    json.dump(data, f, indent = 4)"
   ]
  }
 ],
 "metadata": {
  "kernelspec": {
   "display_name": "tf_nogpu",
   "language": "python",
   "name": "python3"
  },
  "language_info": {
   "codemirror_mode": {
    "name": "ipython",
    "version": 3
   },
   "file_extension": ".py",
   "mimetype": "text/x-python",
   "name": "python",
   "nbconvert_exporter": "python",
   "pygments_lexer": "ipython3",
   "version": "3.8.15"
  },
  "orig_nbformat": 4,
  "vscode": {
   "interpreter": {
    "hash": "b3bb25648a9c884d40b682873456bcab670fb8ca36f33f6d58979330ee7fdcc2"
   }
  }
 },
 "nbformat": 4,
 "nbformat_minor": 2
}
